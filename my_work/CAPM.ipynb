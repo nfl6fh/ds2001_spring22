{
 "cells": [
  {
   "cell_type": "markdown",
   "metadata": {},
   "source": [
    "## Capital Asset Pricing Model (CAPM)\n",
    "### Strength Training with Functions, Numpy\n",
    "\n",
    "\n",
    "### University of Virginia\n",
    "### Programming for Data Science\n",
    "### Last Updated: June 29, 2021\n",
    "---"
   ]
  },
  {
   "cell_type": "markdown",
   "metadata": {},
   "source": [
    "### Objectives: \n",
    "- Use numpy and functions to compute a stock's CAPM beta\n",
    "- Perform sensitivity analysis to understand how the data points impact the beta estimate\n",
    "\n",
    "### Background\n",
    "\n",
    "\n",
    "In finance, CAPM is a single-factor regression model used for explaining and predicting excess stock returns. There are better, more accurate models, but it has its uses. For example, the *market beta* is a useful output.\n",
    "\n",
    "\n",
    "Here is the formula for calculating the expected excess return:\n",
    "\n",
    "\\begin{aligned} &E[R_i] - R_f  = \\beta_i ( E[R_m] - R_f ) \\\\ \\\\ &\\textbf{where:} \\\\ &ER_i = \\text{expected return of stock i} \\\\ &R_f = \\text{risk-free rate} \\\\ &\\beta_i = \\text{beta of the stock} \\\\ &ER_m - R_f = \\text{market risk premium} \\\\ \\end{aligned} \n",
    "\n",
    "#### Review the instructions below to complete the requested tasks.\n",
    "\n",
    "#### TOTAL POINTS: 10\n",
    "---  \n"
   ]
  },
  {
   "cell_type": "code",
   "execution_count": 1,
   "metadata": {},
   "outputs": [],
   "source": [
    "# load modules\n",
    "import numpy as np\n",
    "import pandas as pd\n",
    "\n",
    "# risk-free Treasury rate\n",
    "R_f = 0.0175 / 252"
   ]
  },
  {
   "cell_type": "code",
   "execution_count": 2,
   "metadata": {},
   "outputs": [],
   "source": [
    "# read in the market data\n",
    "data = pd.read_csv('capm_market_data.csv')"
   ]
  },
  {
   "cell_type": "markdown",
   "metadata": {},
   "source": [
    "Look at some records  \n",
    "SPY is an ETF for the S&P 500 (the \"stock market\")  \n",
    "AAPL is Apple  \n",
    "The values are closing prices, adjusted for splits and dividends"
   ]
  },
  {
   "cell_type": "code",
   "execution_count": 3,
   "metadata": {},
   "outputs": [
    {
     "name": "stdout",
     "output_type": "stream",
     "text": [
      "           date  spy_adj_close  aapl_adj_close\n",
      "0    2020-01-02     321.555786      298.829956\n",
      "1    2020-01-03     319.120911      295.924713\n",
      "2    2020-01-06     320.338379      298.282715\n",
      "3    2020-01-07     319.437653      296.879883\n",
      "4    2020-01-08     321.140106      301.655548\n",
      "..          ...            ...             ...\n",
      "130  2020-07-09     314.380005      383.010010\n",
      "131  2020-07-10     317.589996      383.679993\n",
      "132  2020-07-13     314.839996      381.910004\n",
      "133  2020-07-14     318.920013      388.230011\n",
      "134  2020-07-15     321.850006      390.899994\n",
      "\n",
      "[135 rows x 3 columns]\n"
     ]
    }
   ],
   "source": [
    "print(data)"
   ]
  },
  {
   "cell_type": "markdown",
   "metadata": {},
   "source": [
    "Drop the date column"
   ]
  },
  {
   "cell_type": "code",
   "execution_count": 4,
   "metadata": {},
   "outputs": [
    {
     "name": "stdout",
     "output_type": "stream",
     "text": [
      "     spy_adj_close  aapl_adj_close\n",
      "0       321.555786      298.829956\n",
      "1       319.120911      295.924713\n",
      "2       320.338379      298.282715\n",
      "3       319.437653      296.879883\n",
      "4       321.140106      301.655548\n",
      "..             ...             ...\n",
      "130     314.380005      383.010010\n",
      "131     317.589996      383.679993\n",
      "132     314.839996      381.910004\n",
      "133     318.920013      388.230011\n",
      "134     321.850006      390.899994\n",
      "\n",
      "[135 rows x 2 columns]\n"
     ]
    },
    {
     "name": "stderr",
     "output_type": "stream",
     "text": [
      "<ipython-input-4-ea9e0061efd5>:1: FutureWarning: In a future version of pandas all arguments of DataFrame.drop except for the argument 'labels' will be keyword-only.\n",
      "  data1 = data.drop('date',1)\n"
     ]
    }
   ],
   "source": [
    "data1 = data.drop('date',1)\n",
    "print(data1)"
   ]
  },
  {
   "cell_type": "markdown",
   "metadata": {},
   "source": [
    "Compute daily returns (percentage changes in price) for SPY, AAPL  \n",
    "Be sure to drop the first row of NaN  \n",
    "Hint: pandas has functions to easily do this"
   ]
  },
  {
   "cell_type": "code",
   "execution_count": 5,
   "metadata": {},
   "outputs": [],
   "source": [
    "returnSPY = [0]\n",
    "returnAAPL = [0]\n",
    "for i in range(1,len(data1)):\n",
    "    spy = (data1.spy_adj_close[i]-data1.spy_adj_close[i-1])/100\n",
    "    returnSPY.append(spy)\n",
    "    aapl = (data1.aapl_adj_close[i]-data1.aapl_adj_close[i-1])/100\n",
    "    returnAAPL.append(aapl)\n",
    "r = {'SPY_returns': returnSPY,'AAPL_returns': returnAAPL}\n",
    "returns = pd.DataFrame(r)\n",
    "returns1 = returns.drop(0)"
   ]
  },
  {
   "cell_type": "markdown",
   "metadata": {},
   "source": [
    "#### 1. (1 PT) Print the first 5 rows of returns"
   ]
  },
  {
   "cell_type": "code",
   "execution_count": 6,
   "metadata": {},
   "outputs": [
    {
     "name": "stdout",
     "output_type": "stream",
     "text": [
      "     SPY_returns  AAPL_returns\n",
      "1      -0.024349     -0.029052\n",
      "2       0.012175      0.023580\n",
      "3      -0.009007     -0.014028\n",
      "4       0.017025      0.047757\n",
      "5       0.021775      0.064074\n",
      "..           ...           ...\n",
      "130    -0.018000      0.016400\n",
      "131     0.032100      0.006700\n",
      "132    -0.027500     -0.017700\n",
      "133     0.040800      0.063200\n",
      "134     0.029300      0.026700\n",
      "\n",
      "[134 rows x 2 columns]\n"
     ]
    }
   ],
   "source": [
    "print(returns1)"
   ]
  },
  {
   "cell_type": "markdown",
   "metadata": {},
   "source": [
    "Save AAPL, SPY returns into separate numpy arrays  \n",
    "#### 2. (1 PT) Print the first five values from the SPY numpy array, and the AAPL numpy array"
   ]
  },
  {
   "cell_type": "code",
   "execution_count": 7,
   "metadata": {},
   "outputs": [
    {
     "name": "stdout",
     "output_type": "stream",
     "text": [
      "        price   returns\n",
      "0  321.555786  0.000000\n",
      "1  319.120911 -0.024349\n",
      "2  320.338379  0.012175\n",
      "3  319.437653 -0.009007\n",
      "4  321.140106  0.017025\n",
      "        price   returns\n",
      "0  298.829956  0.000000\n",
      "1  295.924713 -0.029052\n",
      "2  298.282715  0.023580\n",
      "3  296.879883 -0.014028\n",
      "4  301.655548  0.047757\n"
     ]
    }
   ],
   "source": [
    "aapl = pd.DataFrame()\n",
    "aapl['price'] = data1['aapl_adj_close']\n",
    "aapl['returns'] = returns['AAPL_returns']\n",
    "\n",
    "spy = pd.DataFrame()\n",
    "spy['price'] = data1['spy_adj_close']\n",
    "spy['returns'] = returns['SPY_returns']\n",
    "\n",
    "print(spy[0:5])\n",
    "print(aapl[0:5])"
   ]
  },
  {
   "cell_type": "markdown",
   "metadata": {},
   "source": [
    "##### Compute the excess returns of AAPL, SPY by simply subtracting the constant *R_f* from the returns.\n",
    "##### Specifically, for the numpy array containing AAPL returns, subtract *R_f* from each of the returns. Repeat for SPY returns.\n",
    "\n",
    "NOTE:  \n",
    "AAPL - *R_f* = excess return of Apple stock  \n",
    "SPY - *R_f* = excess return of stock market\n"
   ]
  },
  {
   "cell_type": "code",
   "execution_count": 8,
   "metadata": {},
   "outputs": [],
   "source": [
    "spy_ex_ret = [0]\n",
    "aapl_ex_ret = [0]\n",
    "for i in range(1,len(spy)):\n",
    "    spy_ex_ret.append(spy['returns'][i] - R_f)\n",
    "    aapl_ex_ret.append(aapl['returns'][i] - R_f)\n",
    "spy['excess_returns'] = spy_ex_ret\n",
    "aapl['excess_returns'] = aapl_ex_ret"
   ]
  },
  {
   "cell_type": "markdown",
   "metadata": {},
   "source": [
    "#### 3. (1 PT) Print the LAST five excess returns from both AAPL, SPY numpy arrays\n"
   ]
  },
  {
   "cell_type": "code",
   "execution_count": 9,
   "metadata": {},
   "outputs": [
    {
     "name": "stdout",
     "output_type": "stream",
     "text": [
      "130   -0.018069\n",
      "131    0.032030\n",
      "132   -0.027569\n",
      "133    0.040731\n",
      "134    0.029230\n",
      "Name: excess_returns, dtype: float64\n",
      "130    0.016331\n",
      "131    0.006630\n",
      "132   -0.017769\n",
      "133    0.063131\n",
      "134    0.026630\n",
      "Name: excess_returns, dtype: float64\n"
     ]
    }
   ],
   "source": [
    "print(spy['excess_returns'][-5:])\n",
    "print(aapl['excess_returns'][-5:])"
   ]
  },
  {
   "cell_type": "markdown",
   "metadata": {},
   "source": [
    "#### 4. (1 PT) Make a scatterplot with SPY excess returns on x-axis, AAPL excess returns on y-axis####\n",
    "Matplotlib documentation: https://matplotlib.org/stable/api/_as_gen/matplotlib.pyplot.scatter.html"
   ]
  },
  {
   "cell_type": "code",
   "execution_count": 10,
   "metadata": {},
   "outputs": [
    {
     "data": {
      "text/plain": [
       "<matplotlib.collections.PathCollection at 0x7f94a787ed90>"
      ]
     },
     "execution_count": 10,
     "metadata": {},
     "output_type": "execute_result"
    },
    {
     "data": {
      "image/png": "[encoded data removed]",
      "text/plain": [
       "<Figure size 432x288 with 1 Axes>"
      ]
     },
     "metadata": {
      "needs_background": "light"
     },
     "output_type": "display_data"
    }
   ],
   "source": [
    "import matplotlib.pyplot\n",
    "matplotlib.pyplot.scatter(spy['excess_returns'],aapl['excess_returns'])"
   ]
  },
  {
   "cell_type": "markdown",
   "metadata": {},
   "source": [
    "#### 5. (3 PTS) Use Linear Algebra (matrices) to Compute the Regression Coefficient Estimate, \\\\(\\hat\\beta_i\\\\)\n",
    "\n",
    "Hint 1: Here is the matrix formula where *x′* denotes transpose of *x*.\n",
    "\n",
    "\\begin{aligned} \\hat\\beta_i=(x′x)^{−1}x′y \\end{aligned} \n",
    "\n",
    "Hint 2: consider numpy functions for matrix multiplication, transpose, and inverse. Be sure to review what these operations do, and how they work, if you're a bit rusty."
   ]
  },
  {
   "cell_type": "code",
   "execution_count": 11,
   "metadata": {},
   "outputs": [
    {
     "data": {
      "text/plain": [
       "1.0973627586504018"
      ]
     },
     "execution_count": 11,
     "metadata": {},
     "output_type": "execute_result"
    }
   ],
   "source": [
    "x,y = spy['excess_returns'],aapl['excess_returns']\n",
    "\n",
    "a = (np.matmul(x,np.transpose(x)))**-1\n",
    "b = np.matmul(np.transpose(x),y)\n",
    "beta = np.multiply(a,b)\n",
    "beta"
   ]
  },
  {
   "cell_type": "markdown",
   "metadata": {},
   "source": [
    "You should have found that the beta estimate is greater than one.  \n",
    "This means that the risk of AAPL stock, given the data, and according to this particular (flawed) model,  \n",
    "is higher relative to the risk of the S&P 500.\n"
   ]
  },
  {
   "cell_type": "markdown",
   "metadata": {},
   "source": []
  },
  {
   "cell_type": "markdown",
   "metadata": {},
   "source": [
    "#### Measuring Beta Sensitivity to Dropping Observations (Jackknifing)"
   ]
  },
  {
   "cell_type": "markdown",
   "metadata": {},
   "source": [
    "Let's understand how sensitive the beta is to each data point.   \n",
    "We want to drop each data point (one at a time), compute \\\\(\\hat\\beta_i\\\\) using our formula from above, and save each measurement.\n",
    "\n",
    "#### 6. (3 PTS) Write a function called `beta_sensitivity()` with these specs:\n",
    "\n",
    "- take numpy arrays x and y as inputs\n",
    "- output a list of tuples. each tuple contains (observation row dropped, beta estimate)\n",
    "\n",
    "Hint: **np.delete(x, i).reshape(-1,1)** will delete observation i from array x, and make it a column vector"
   ]
  },
  {
   "cell_type": "code",
   "execution_count": 12,
   "metadata": {},
   "outputs": [],
   "source": [
    "def beta_sensitivity(x,y):\n",
    "    sensitivities = []\n",
    "    for i in range(len(x)-1):\n",
    "        xd = x.drop(i)\n",
    "        yd = y.drop(i)\n",
    "        a = (np.matmul(xd,np.transpose(xd)))**-1\n",
    "        b = np.matmul(np.transpose(xd),yd)\n",
    "        beta = np.multiply(a,b)\n",
    "        beta\n",
    "        curr = (i,beta)\n",
    "        sensitivities.append(curr)\n",
    "    return sensitivities"
   ]
  },
  {
   "cell_type": "markdown",
   "metadata": {},
   "source": [
    "#### Call `beta_sensitivity()` and print the first five tuples of output."
   ]
  },
  {
   "cell_type": "code",
   "execution_count": 13,
   "metadata": {},
   "outputs": [
    {
     "name": "stdout",
     "output_type": "stream",
     "text": [
      "[(0, 1.0973627586504018), (1, 1.0972846519163029), (2, 1.0971926367876148), (3, 1.0973111575025416), (4, 1.0966850419364045)]\n"
     ]
    }
   ],
   "source": [
    "sens = beta_sensitivity(x,y)\n",
    "print(sens[0:5])"
   ]
  }
 ],
 "metadata": {
  "kernelspec": {
   "display_name": "Python 3",
   "language": "python",
   "name": "python3"
  },
  "language_info": {
   "codemirror_mode": {
    "name": "ipython",
    "version": 3
   },
   "file_extension": ".py",
   "mimetype": "text/x-python",
   "name": "python",
   "nbconvert_exporter": "python",
   "pygments_lexer": "ipython3",
   "version": "3.8.5"
  }
 },
 "nbformat": 4,
 "nbformat_minor": 4
}
